{
 "cells": [
  {
   "cell_type": "code",
   "execution_count": 1,
   "metadata": {
    "colab": {
     "base_uri": "https://localhost:8080/"
    },
    "id": "hUTL_sJmxUfK",
    "outputId": "888ff7d9-ea3b-42eb-e3ee-6931c94b607a"
   },
   "outputs": [
    {
     "name": "stdout",
     "output_type": "stream",
     "text": [
      "Please enter price : 56\n",
      "Go straight\n"
     ]
    }
   ],
   "source": [
    "# Write a program if user input is greater then 100$ then Go left in a shoping mall and if less then 50$ then take right while if between 50-100$ then go straight \n",
    "x = int(input(\"Please enter price : \"))\n",
    "if(x > 100):\n",
    "    print(\"Go left\")\n",
    "elif(x < 50):\n",
    "    print(\"Go right\")\n",
    "elif(x > 50 and x < 100):\n",
    "    print(\"Go straight\")"
   ]
  },
  {
   "cell_type": "code",
   "execution_count": 6,
   "metadata": {
    "colab": {
     "base_uri": "https://localhost:8080/"
    },
    "id": "9LlFR-hxI-8d",
    "outputId": "452b14b9-a89d-4339-9fc9-49d2328e1580"
   },
   "outputs": [
    {
     "name": "stdout",
     "output_type": "stream",
     "text": [
      "Enter the Day : Sat\n",
      "Enter today temp : 25\n",
      "He will go for tour\n"
     ]
    }
   ],
   "source": [
    "# Write a program to check weather a person Go for tour or not \n",
    "#Condition For going tour \n",
    "#1. The Day Should be Saturday or Sunday \n",
    "#2. The Day temp should be between 20 C to 30 C\n",
    "day = input(\"Enter the Day : \")\n",
    "temp = int(input(\"Enter today temp : \"))\n",
    "if(day == \"Sat\" or day == \"Sun\"):\n",
    "    if(temp >= 20 and temp <= 30):\n",
    "        print(\"He will go for tour\")\n",
    "    else:\n",
    "        print(\"He will not go for tour\")\n",
    "else:\n",
    "    print(\"He will not go for tour\")\n"
   ]
  },
  {
   "cell_type": "code",
   "execution_count": 7,
   "metadata": {
    "colab": {
     "base_uri": "https://localhost:8080/"
    },
    "id": "iqTL_SlyMyD0",
    "outputId": "e5a28c3e-fe28-4347-9d51-c5db4b6e2093"
   },
   "outputs": [
    {
     "name": "stdout",
     "output_type": "stream",
     "text": [
      "1505,1540,1575,1610,1645,1680,1715,1750,1785,1820,1855,1890,1925,1960,1995,2030,2065,2100,2135,2170,2205,2240,2275,2310,2345,2380,2415,2450,2485,2520,2555,2590,2625,2660,2695,"
     ]
    }
   ],
   "source": [
    "#Write a Python program to find those numbers which are divisible by 7 and multiple of 5, between 1500 and 2700 (both included)\n",
    "for i in range(1500,2701,1):\n",
    "    if(i % 7 == 0 and i % 5 == 0):\n",
    "        print(i, end = \",\")"
   ]
  },
  {
   "cell_type": "code",
   "execution_count": 9,
   "metadata": {
    "colab": {
     "base_uri": "https://localhost:8080/"
    },
    "id": "Bu6ZIt14MDjv",
    "outputId": "96f69fc1-66a8-48fa-fa23-0c5660dbb214"
   },
   "outputs": [
    {
     "name": "stdout",
     "output_type": "stream",
     "text": [
      "Input the temperature you like to convert(e.g 45F , 102C, etc) : 45C\n",
      "The temperature in farenheit is  113.0  degrees.\n"
     ]
    }
   ],
   "source": [
    "#Write a Python program to convert temperatures to and from celsius, fahrenheit.\n",
    "#Formula : c/5 = f-32/9 [ where c = temperature in celsius and f = temperature in fahrenheit \n",
    "temp = input(\"Input the temperature you like to convert(e.g 45F , 102C, etc) : \")\n",
    "x = list(temp)\n",
    "temp = temp[0:(len(temp)-1)]\n",
    "t = int(temp)\n",
    "if(x[-1]==\"C\"):\n",
    "    res = float((t*9/5)+32)\n",
    "    print(\"The temperature in farenheit is \",res,\" degrees.\")\n",
    "elif(x[-1]==\"F\"):\n",
    "    res = float((5*(t-32))/9)\n",
    "    print(\"The temperature in celcius is \",res,\" degrees.\")"
   ]
  },
  {
   "cell_type": "code",
   "execution_count": 14,
   "metadata": {
    "colab": {
     "base_uri": "https://localhost:8080/"
    },
    "id": "tbhAwGcyOxYB",
    "outputId": "3691ac22-025f-4257-d1db-2b91dba9981b"
   },
   "outputs": [
    {
     "name": "stdout",
     "output_type": "stream",
     "text": [
      "\n",
      "* \n",
      "* * \n",
      "* * * \n",
      "* * * * \n",
      "* * * * * \n",
      "* * * * \n",
      "* * * \n",
      "* * \n",
      "* \n"
     ]
    }
   ],
   "source": [
    "#Write a Python program to construct the following pattern, using a nested for loop.  (That question is Optional )\n",
    "'''* \n",
    "   * * \n",
    "   * * * \n",
    "   * * * * \n",
    "   * * * * * \n",
    "   * * * * \n",
    "   * * * \n",
    "   * * \n",
    "   *'''\n",
    "for i in range(1,7,1):\n",
    "    for j in range(1,i,1):\n",
    "        print(\"* \", end = \"\")\n",
    "    print()\n",
    "for i in range(5,1,-1):\n",
    "    for j in range(1,i,1):\n",
    "        print(\"* \", end = \"\")\n",
    "    print()\n"
   ]
  },
  {
   "cell_type": "code",
   "execution_count": 15,
   "metadata": {
    "colab": {
     "base_uri": "https://localhost:8080/"
    },
    "id": "qMKo50g1PppW",
    "outputId": "352b3c4c-61b6-4a49-b581-4b8f0e65f38b"
   },
   "outputs": [
    {
     "name": "stdout",
     "output_type": "stream",
     "text": [
      "Enter first number a : 2\n",
      "Enter second number b : 1\n",
      "Enter third number c : 4\n",
      "a is 2nd largest\n"
     ]
    }
   ],
   "source": [
    "# print the 2nd largest number from 3 numbers \n",
    "a = int(input(\"Enter first number a : \"))\n",
    "b = int(input(\"Enter second number b : \"))\n",
    "c = int(input(\"Enter third number c : \"))\n",
    "if(a > b and a < c):\n",
    "    print(\"a is 2nd largest\")\n",
    "if(b > a and b < c):\n",
    "    print(\"b is 2nd largest\")\n",
    "if(c > b and c < a):\n",
    "    print(\"c is 2nd largest\")\n"
   ]
  },
  {
   "cell_type": "code",
   "execution_count": 19,
   "metadata": {
    "colab": {
     "base_uri": "https://localhost:8080/"
    },
    "id": "WgbmUoLVPgvQ",
    "outputId": "6ae2bf05-edd5-4ba6-f2d4-d47d81ca0f98"
   },
   "outputs": [
    {
     "name": "stdout",
     "output_type": "stream",
     "text": [
      "15\n",
      "55\n",
      "75\n",
      "150\n"
     ]
    }
   ],
   "source": [
    "#Given a list, iterate it, and display numbers divisible by five, and if you find a number greater than 150, stop the loop iteration.\n",
    "x = [15,26,55,37,75,150,156,215,45]\n",
    "for i in x:\n",
    "    if(i > 150):\n",
    "        break\n",
    "    elif(i % 5 == 0):\n",
    "        print(i)\n",
    "\n"
   ]
  },
  {
   "cell_type": "code",
   "execution_count": 21,
   "metadata": {
    "colab": {
     "base_uri": "https://localhost:8080/"
    },
    "id": "ZjTtjuHLUu37",
    "outputId": "501718f3-a8c6-4597-fd02-ae3563b4f918"
   },
   "outputs": [
    {
     "name": "stdout",
     "output_type": "stream",
     "text": [
      "Enter number : 2342553463\n",
      "Total digits are :  10\n"
     ]
    }
   ],
   "source": [
    "# Given a number count the total number of digits in a number\n",
    "x = int(input(\"Enter number : \"))\n",
    "s = str(x)\n",
    "print(\"Total digits are : \",len(s))\n"
   ]
  },
  {
   "cell_type": "code",
   "execution_count": 22,
   "metadata": {
    "colab": {
     "base_uri": "https://localhost:8080/"
    },
    "id": "BEbz_FzdVIZw",
    "outputId": "2063919b-fe1b-49dc-d84e-171acabdf202"
   },
   "outputs": [
    {
     "name": "stdout",
     "output_type": "stream",
     "text": [
      "0\n",
      "1\n",
      "2\n",
      "3\n",
      "4\n",
      "Done\n"
     ]
    }
   ],
   "source": [
    "#Display a message “Done” after successful execution of for loop\n",
    "for i in range(5):\n",
    "    print(i)\n",
    "print(\"Done\")"
   ]
  },
  {
   "cell_type": "code",
   "execution_count": 26,
   "metadata": {
    "colab": {
     "base_uri": "https://localhost:8080/"
    },
    "id": "ZOKQ8XSQVQy1",
    "outputId": "41823f3e-1601-4a01-912e-5e351adb7f6f"
   },
   "outputs": [
    {
     "name": "stdout",
     "output_type": "stream",
     "text": [
      "2\n",
      "100\n",
      "2,3,5,7,11,13,17,19,23,29,31,37,41,43,47,53,59,61,67,71,73,79,83,89,97,"
     ]
    }
   ],
   "source": [
    "# Write a program to display all prime numbers within a range\n",
    "min = int(input())\n",
    "max = int(input())\n",
    "for i in range(min,(max+1)):\n",
    "    k = 0\n",
    "    for j in range(2,i):\n",
    "        if(i % j == 0):\n",
    "            k = k + 1\n",
    "    if(k == 0):\n",
    "        print(i,end = \",\")\n",
    "            "
   ]
  },
  {
   "cell_type": "code",
   "execution_count": 28,
   "metadata": {
    "colab": {
     "base_uri": "https://localhost:8080/"
    },
    "id": "8yI8XsWjVZA1",
    "outputId": "03608208-c72f-403d-a1a5-65f9ff4884a6"
   },
   "outputs": [
    {
     "name": "stdout",
     "output_type": "stream",
     "text": [
      "0 1 1 2 3 5 8 13 21 34 "
     ]
    }
   ],
   "source": [
    "#Display Fibonacci series up to 10 terms\n",
    "x = 0\n",
    "y = 1\n",
    "print(x, end = \" \")\n",
    "print(y, end = \" \")\n",
    "for i in range(8):\n",
    "    z = x + y\n",
    "    x = y\n",
    "    y = z\n",
    "    print(z, end = \" \")"
   ]
  },
  {
   "cell_type": "code",
   "execution_count": 29,
   "metadata": {
    "colab": {
     "base_uri": "https://localhost:8080/"
    },
    "id": "TIwDlxpVVk_E",
    "outputId": "dffb72b4-ee09-4159-aae2-155fd92f73a1"
   },
   "outputs": [
    {
     "name": "stdout",
     "output_type": "stream",
     "text": [
      "Enter integer : 5\n",
      "Current number is :  1  and cube is  1\n",
      "Current number is :  2  and cube is  8\n",
      "Current number is :  3  and cube is  27\n",
      "Current number is :  4  and cube is  64\n",
      "Current number is :  5  and cube is  125\n"
     ]
    }
   ],
   "source": [
    "# Display the cube of the number up to a given integer\n",
    "x = int(input(\"Enter integer : \"))\n",
    "for i in range(1,(x+1),1):\n",
    "    print(\"Current number is : \",i,\" and cube is \",pow(i,3))"
   ]
  }
 ],
 "metadata": {
  "colab": {
   "collapsed_sections": [],
   "name": "Condition_loop__home_Assignment.ipynb",
   "provenance": []
  },
  "kernelspec": {
   "display_name": "Python 3",
   "language": "python",
   "name": "python3"
  },
  "language_info": {
   "codemirror_mode": {
    "name": "ipython",
    "version": 3
   },
   "file_extension": ".py",
   "mimetype": "text/x-python",
   "name": "python",
   "nbconvert_exporter": "python",
   "pygments_lexer": "ipython3",
   "version": "3.8.5"
  }
 },
 "nbformat": 4,
 "nbformat_minor": 1
}
